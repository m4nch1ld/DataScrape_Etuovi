{
 "cells": [
  {
   "cell_type": "markdown",
   "metadata": {},
   "source": [
    "## Importing the libraries"
   ]
  },
  {
   "cell_type": "code",
   "execution_count": null,
   "metadata": {},
   "outputs": [],
   "source": [
    "import numpy as np\n",
    "import requests\n",
    "from bs4 import BeautifulSoup as bs\n",
    "import pandas as pd\n",
    "from datetime import datetime\n",
    "from urllib.request import urlopen\n",
    "import geopy\n",
    "from geopy.geocoders import Nominatim\n",
    "from geopy.extra.rate_limiter import RateLimiter\n",
    "import geopandas\n",
    "import folium"
   ]
  },
  {
   "cell_type": "markdown",
   "metadata": {},
   "source": [
    "## Scraping the initial data with BeautifulSoup"
   ]
  },
  {
   "cell_type": "code",
   "execution_count": null,
   "metadata": {},
   "outputs": [],
   "source": [
    "URL = \"https://www.etuovi.com/myytavat-asunnot/helsinki?haku=M1608807886&sivu=1\"\n",
    "#requesting the URL above:\n",
    "page = requests.get(URL)\n",
    "#specifying the format of “page” using the html parser allowimg python to read the various components of the page, rather than treating it as one long string.\n",
    "soup = bs(page.text, \"html.parser\")\n",
    "#printing soup in a priettier form:\n",
    "print(soup.prettify())"
   ]
  },
  {
   "cell_type": "code",
   "execution_count": null,
   "metadata": {},
   "outputs": [],
   "source": [
    "# Creating a while loop for looping through all the \"next pages\".\n",
    "i=0\n",
    "initial_data = []\n",
    "while True:\n",
    "    i = i+1\n",
    "    #Edit the if function below to scrape a larger number of pages\n",
    "    if i > 6:\n",
    "        print(\"done\")\n",
    "        break\n",
    "    else:\n",
    "        #Edit the initial search criteria in at etuovi.com for more specified search.\n",
    "        url = f\"https://www.etuovi.com/myytavat-asunnot/helsinki?haku=M1608933110&sivu=\"+str(i)\n",
    "        page = requests.get(url)\n",
    "        soup = bs(page.text, \"html.parser\")\n",
    "        for div in soup.find_all(name=\"div\", attrs={\"class\":\"flexboxgrid__col-xs-12__1I1LS flexboxgrid__col-sm-7__1EzZq flexboxgrid__col-md-9__2kjy7 flexboxgrid__col-lg-9__M7bfm styles__infoArea__2yhEL\"}):\n",
    "            initial_data.append(div.text.strip())\n",
    "        print(initial_data)"
   ]
  },
  {
   "cell_type": "markdown",
   "metadata": {},
   "source": [
    "## DATA CLEANSE & ANALYSIS"
   ]
  },
  {
   "cell_type": "code",
   "execution_count": null,
   "metadata": {},
   "outputs": [],
   "source": [
    "initial = pd.DataFrame(initial_data)\n",
    "df_initial = initial.rename(columns={0: 'Raw_Data'})"
   ]
  },
  {
   "cell_type": "code",
   "execution_count": null,
   "metadata": {},
   "outputs": [],
   "source": [
    "# Clean the initial soup into separated columns for easier readibility and management\n",
    "df_initial[['Type','Raw_2']] = df_initial.Raw_Data.str.split(\"|\",expand=True)\n",
    "df_initial[[\"Raw_3\", \"Year\"]] = df_initial.Raw_2.str.split(\"Vuosi\", expand=True)\n",
    "df_initial['Year_Built'] = df_initial['Year'].str[:4]\n",
    "df_initial[[\"Raw_4\", \"Price_Iteration\"]] = df_initial.Raw_3.str.split(\"Hinta\", expand=True)\n",
    "df_initial[[\"Price\", \"Size\"]] = df_initial.Price_Iteration.str.split(\"Koko\", expand=True)\n",
    "df_initial[[\"Rooms\",\"Address\"]] = df_initial.Raw_4.str.split(\"check\", expand=True)\n",
    "df_initial['Price_Iteration_2'] = df_initial['Price'].str.replace('*',\"\")\n",
    "df_initial['Price_Iteration_3'] = df_initial['Price_Iteration_2'].str.replace('€',\"\")\n",
    "df_initial['Price_Iteration_4'] = df_initial['Price_Iteration_3'].str[:7]\n",
    "df_initial['Price_euro'] = df_initial['Price_Iteration_4'].str.replace(\"\\s+\",\"\")\n",
    "df_initial[\"Size_m²\"] = df_initial[\"Size\"].str.replace(\" m²\",\"\")\n",
    "print(df_initial.head())"
   ]
  },
  {
   "cell_type": "code",
   "execution_count": null,
   "metadata": {},
   "outputs": [],
   "source": [
    "# save the processed colums, rearrange the columns, and get rid of the raw data\n",
    "data_cleansed = df_initial[[\"Price_euro\",\"Year_Built\",\"Size_m²\",\"Type\",\"Rooms\",\"Address\"]]"
   ]
  },
  {
   "cell_type": "markdown",
   "metadata": {},
   "source": [
    "## Saving the dataframe to Excel"
   ]
  },
  {
   "cell_type": "code",
   "execution_count": null,
   "metadata": {},
   "outputs": [],
   "source": [
    "#add a datetime for naming the excel sheet\n",
    "dt = datetime.now(tz=None)\n",
    "dt_str = dt.strftime(\"%Y\" + \"%m\" + \"%d\")"
   ]
  },
  {
   "cell_type": "code",
   "execution_count": null,
   "metadata": {},
   "outputs": [],
   "source": [
    "# save the data into Excel (change the file path)\n",
    "data_cleansed.to_excel(r'C:\\Users\\JohnSmith\\NeighborhoodWatch.xlsx', index = False, sheet_name=dt_str)"
   ]
  },
  {
   "cell_type": "markdown",
   "metadata": {},
   "source": [
    "## Plotting the results on map"
   ]
  },
  {
   "cell_type": "code",
   "execution_count": null,
   "metadata": {},
   "outputs": [],
   "source": [
    "# setting the locator and the \"NeighborhoodWatch.xlsx\" file for plotting\n",
    "locator = Nominatim(user_agent=\"myGeocoder\")\n",
    "df = pd.read_excel(\"NeighborhoodWatch.xlsx\")\n",
    "df['Address_Geo'] = df[\"Address\"]+\",\"+\"Finland\"\n",
    "df.head()"
   ]
  },
  {
   "cell_type": "code",
   "execution_count": null,
   "metadata": {},
   "outputs": [],
   "source": [
    "# 1 - conveneint function to delay between geocoding calls\n",
    "geocode = RateLimiter(locator.geocode, min_delay_seconds=1)\n",
    "# 2- - create location column\n",
    "df['location'] = df['Address_Geo'].apply(geocode)\n",
    "# 3 - create longitude, laatitude and altitude from location column (returns tuple)\n",
    "df['point'] = df['location'].apply(lambda loc: tuple(loc.point) if loc else None)\n",
    "# 4 - split point column into latitude, longitude and altitude columns\n",
    "df[['latitude', 'longitude', 'altitude']] = pd.DataFrame(df['point'].tolist(), index=df.index)"
   ]
  },
  {
   "cell_type": "code",
   "execution_count": null,
   "metadata": {},
   "outputs": [],
   "source": [
    "# cleaning the unnecessary columns\n",
    "df = df.drop([\"Price_euro\", \"Year_Built\", \"Size_m²\", \"Type\", \"Rooms\", \"Address\", \"location\", \"point\"], axis=1)\n",
    "df.head()"
   ]
  },
  {
   "cell_type": "code",
   "execution_count": null,
   "metadata": {},
   "outputs": [],
   "source": [
    "# I had a faulty input from the scrape with no latitude/longitudem, which I cleared with dropna (this could be improved)\n",
    "df_real = df.dropna(subset = [\"latitude\"])\n",
    "print(df_real)"
   ]
  },
  {
   "cell_type": "code",
   "execution_count": null,
   "metadata": {},
   "outputs": [],
   "source": [
    "# the initial map\n",
    "map1 = folium.Map(\n",
    "    location=[60.1692898243506, 24.94011732881071],\n",
    "    tiles='cartodbpositron',\n",
    "    zoom_start=12,\n",
    ")\n",
    "df_real.apply(lambda row:folium.CircleMarker(location=[row[\"latitude\"], row[\"longitude\"]]).add_to(map1), axis=1)\n",
    "map1"
   ]
  },
  {
   "cell_type": "code",
   "execution_count": null,
   "metadata": {},
   "outputs": [],
   "source": [
    "# Now we can choose to create the final map with two options:\n",
    "    #1. With clustered dark map using FastMarkerCluster\n",
    "    #2. With popups on each and every plotted address"
   ]
  },
  {
   "cell_type": "markdown",
   "metadata": {},
   "source": [
    "## Option 1: clustered dark map using FastMarkerCluster"
   ]
  },
  {
   "cell_type": "code",
   "execution_count": null,
   "metadata": {},
   "outputs": [],
   "source": [
    "# setting up the FastMarkerCluster\n",
    "from folium.plugins.marker_cluster import MarkerCluster\n",
    "from folium.utilities import if_pandas_df_convert_to_numpy, validate_location\n",
    "from jinja2 import Template\n",
    "\n",
    "\n",
    "class FastMarkerCluster(MarkerCluster):\n",
    "    \"\"\"\n",
    "    Add marker clusters to a map using in-browser rendering.\n",
    "    Using FastMarkerCluster it is possible to render 000's of\n",
    "    points far quicker than the MarkerCluster class.\n",
    "    Be aware that the FastMarkerCluster class passes an empty\n",
    "    list to the parent class' __init__ method during initialisation.\n",
    "    This means that the add_child method is never called, and\n",
    "    no reference to any marker data are retained. Methods such\n",
    "    as get_bounds() are therefore not available when using it.\n",
    "    Parameters\n",
    "    ----------\n",
    "    data: list of list with values\n",
    "        List of list of shape [[lat, lon], [lat, lon], etc.]\n",
    "        When you use a custom callback you could add more values after the\n",
    "        lat and lon. E.g. [[lat, lon, 'red'], [lat, lon, 'blue']]\n",
    "    callback: string, optional\n",
    "        A string representation of a valid Javascript function\n",
    "        that will be passed each row in data. See the\n",
    "        FasterMarkerCluster for an example of a custom callback.\n",
    "    name : string, optional\n",
    "        The name of the Layer, as it will appear in LayerControls.\n",
    "    overlay : bool, default True\n",
    "        Adds the layer as an optional overlay (True) or the base layer (False).\n",
    "    control : bool, default True\n",
    "        Whether the Layer will be included in LayerControls.\n",
    "    show: bool, default True\n",
    "        Whether the layer will be shown on opening (only for overlays).\n",
    "    icon_create_function : string, default None\n",
    "        Override the default behaviour, making possible to customize\n",
    "        markers colors and sizes.\n",
    "    **kwargs\n",
    "        Additional arguments are passed to Leaflet.markercluster options. See\n",
    "        https://github.com/Leaflet/Leaflet.markercluster\n",
    "    \"\"\"\n",
    "    _template = Template(u\"\"\"\n",
    "        {% macro script(this, kwargs) %}\n",
    "            var {{ this.get_name() }} = (function(){\n",
    "                {{ this.callback }}\n",
    "                var data = {{ this.data|tojson }};\n",
    "                var cluster = L.markerClusterGroup({{ this.options|tojson }});\n",
    "                {%- if this.icon_create_function is not none %}\n",
    "                cluster.options.iconCreateFunction =\n",
    "                    {{ this.icon_create_function.strip() }};\n",
    "                {%- endif %}\n",
    "                for (var i = 0; i < data.length; i++) {\n",
    "                    var row = data[i];\n",
    "                    var marker = callback(row);\n",
    "                    marker.addTo(cluster);\n",
    "                }\n",
    "                cluster.addTo({{ this._parent.get_name() }});\n",
    "                return cluster;\n",
    "            })();\n",
    "        {% endmacro %}\"\"\")\n",
    "\n",
    "    def __init__(self, data, callback=None, options=None,\n",
    "                 name=None, overlay=True, control=True, show=True, icon_create_function=None, **kwargs):\n",
    "        if options is not None:\n",
    "            kwargs.update(options)  # options argument is legacy\n",
    "        super(FastMarkerCluster, self).__init__(name=name, overlay=overlay,\n",
    "                                                control=control, show=show,\n",
    "                                                icon_create_function=icon_create_function,\n",
    "                                                **kwargs)\n",
    "        self._name = 'FastMarkerCluster'\n",
    "        data = if_pandas_df_convert_to_numpy(data)\n",
    "        self.data = [[*validate_location(row[:2]), *row[2:]]  # noqa: E999\n",
    "                     for row in data]\n",
    "\n",
    "        if callback is None:\n",
    "            self.callback = \"\"\"\n",
    "                var callback = function (row) {\n",
    "                    var icon = L.AwesomeMarkers.icon();\n",
    "                    var marker = L.marker(new L.LatLng(row[0], row[1]));\n",
    "                    marker.setIcon(icon);\n",
    "                    return marker;\n",
    "                };\"\"\"\n",
    "        else:\n",
    "            self.callback = 'var callback = {};'.format(callback)"
   ]
  },
  {
   "cell_type": "code",
   "execution_count": null,
   "metadata": {},
   "outputs": [],
   "source": [
    "# Creating the final map with the option 1 style\n",
    "map_option_1 = folium.Map(location=[60.1692898243506, 24.94011732881071],\n",
    "                        zoom_start=12,\n",
    "                        tiles='CartoDB dark_matter')\n",
    "\n",
    "\n",
    "FastMarkerCluster(data=list(zip(df_real['latitude'].values, df_real['longitude'].values))).add_to(map_option_1)\n",
    "folium.LayerControl().add_to(map_option_1)\n",
    "map_option_1"
   ]
  },
  {
   "cell_type": "markdown",
   "metadata": {},
   "source": [
    "## Option 2: creating popups for each address"
   ]
  },
  {
   "cell_type": "code",
   "execution_count": null,
   "metadata": {},
   "outputs": [],
   "source": [
    "# Setting up the map\n",
    "map_option_2 = folium.Map(\n",
    "    location=[60.1692898243506, 24.94011732881071],\n",
    "    tiles='cartodbpositron',\n",
    "    zoom_start=12,\n",
    ")"
   ]
  },
  {
   "cell_type": "code",
   "execution_count": null,
   "metadata": {},
   "outputs": [],
   "source": [
    "for row in df_real.iterrows(): \n",
    "    row_values = row[1]\n",
    "    location = [row_values['latitude'], row_values['longitude']]\n",
    "    popup = (str(row_values['Address_Geo']))\n",
    "    marker = folium.Marker(location = location, popup = popup)\n",
    "    marker.add_to(map_option_2)\n",
    "\n",
    "# Display the map.\n",
    "display(map_option_2)"
   ]
  },
  {
   "cell_type": "code",
   "execution_count": null,
   "metadata": {},
   "outputs": [],
   "source": []
  },
  {
   "cell_type": "code",
   "execution_count": null,
   "metadata": {},
   "outputs": [],
   "source": []
  }
 ],
 "metadata": {
  "kernelspec": {
   "display_name": "Python 3",
   "language": "python",
   "name": "python3"
  },
  "language_info": {
   "codemirror_mode": {
    "name": "ipython",
    "version": 3
   },
   "file_extension": ".py",
   "mimetype": "text/x-python",
   "name": "python",
   "nbconvert_exporter": "python",
   "pygments_lexer": "ipython3",
   "version": "3.8.5"
  }
 },
 "nbformat": 4,
 "nbformat_minor": 4
}
